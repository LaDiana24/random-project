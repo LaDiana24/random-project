{
 "cells": [
  {
   "cell_type": "markdown",
   "id": "807e939a",
   "metadata": {},
   "source": [
    "> ANSWER NO 1"
   ]
  },
  {
   "cell_type": "code",
   "execution_count": 5,
   "id": "8c6a1917",
   "metadata": {},
   "outputs": [
    {
     "name": "stdout",
     "output_type": "stream",
     "text": [
      "9\n"
     ]
    }
   ],
   "source": [
    "def string_length(msg):\n",
    "    length = 0\n",
    "    for char in msg:\n",
    "        if ord(char) <= 127:  # ASCII characters\n",
    "            length += 1\n",
    "        else:\n",
    "            length += 2  # Chinese characters\n",
    "    return length\n",
    "\n",
    "# Test the function\n",
    "msg = \"abc北科大\"\n",
    "print(string_length(msg))  # Output should be 9\n"
   ]
  },
  {
   "cell_type": "code",
   "execution_count": null,
   "id": "f94ecb6e",
   "metadata": {},
   "outputs": [],
   "source": []
  },
  {
   "cell_type": "markdown",
   "id": "0bdd2914",
   "metadata": {},
   "source": [
    ">ANSWER NO 2"
   ]
  },
  {
   "cell_type": "code",
   "execution_count": 33,
   "id": "85db9a57",
   "metadata": {},
   "outputs": [
    {
     "name": "stdout",
     "output_type": "stream",
     "text": [
      "                   拉\n",
      "                 依拉\n",
      "               羅依拉\n",
      "              7羅依拉\n",
      "             17羅依拉\n",
      "            017羅依拉\n",
      "           0017羅依拉\n",
      "          90017羅依拉\n",
      "         990017羅依拉\n",
      "        9990017羅依拉\n",
      "       09990017羅依拉\n",
      "      109990017羅依拉\n",
      "    系109990017羅依拉\n",
      "  子系109990017羅依拉\n",
      "電子系109990017羅依拉\n"
     ]
    }
   ],
   "source": [
    "msg = \"電子系109990017羅依拉\"\n",
    "def string_length(msg):\n",
    "    length = 0\n",
    "    for m in msg:\n",
    "        if ord(m) < 128:\n",
    "            length += 1\n",
    "        else:\n",
    "            length += 2\n",
    "    return length\n",
    "n = len(msg)\n",
    "for i in range( len(msg) ):\n",
    "    print(' ' * ((string_length(msg[0:(len(msg) - i - 1)]))), end='')\n",
    "    print(f\"{msg[-(i+1):]}\")"
   ]
  },
  {
   "cell_type": "code",
   "execution_count": null,
   "id": "450be55f",
   "metadata": {},
   "outputs": [],
   "source": []
  },
  {
   "cell_type": "markdown",
   "id": "3e5b8818",
   "metadata": {},
   "source": [
    ">ANSWER NO 3"
   ]
  },
  {
   "cell_type": "code",
   "execution_count": 32,
   "id": "52d2001b",
   "metadata": {},
   "outputs": [
    {
     "name": "stdout",
     "output_type": "stream",
     "text": [
      "伊: 1\n",
      "吳: 1\n",
      "唐: 1\n",
      "曹: 1\n",
      "杜: 1\n",
      "林: 1\n",
      "王: 1\n",
      "郭: 2\n",
      "陳: 2\n"
     ]
    }
   ],
   "source": [
    "# 1. Disassemble the person's name and obtain the 'name series'\n",
    "namestr = \"林豐祥、伊姿和、唐雅婷、陳弘婷、杜淑娟、曹俐火、王郁婷、吳鈺桂、陳瑞瑜、郭志豪、郭天芝\"\n",
    "names = namestr.split('、')\n",
    "\n",
    "surnames = [name[0] for name in names]\n",
    "surnames.sort()\n",
    "\n",
    "surname_counts = {}\n",
    "for surname in surnames:\n",
    "    if surname in surname_counts:\n",
    "        surname_counts[surname] += 1\n",
    "    else:\n",
    "        surname_counts[surname] = 1\n",
    "        \n",
    "for surname, count in surname_counts.items():\n",
    "    print(f\"{surname}: {count}\")\n"
   ]
  },
  {
   "cell_type": "code",
   "execution_count": 31,
   "id": "c975cbf1",
   "metadata": {},
   "outputs": [
    {
     "name": "stdout",
     "output_type": "stream",
     "text": [
      "伊: 1\n",
      "吳: 1\n",
      "唐: 1\n",
      "曹: 1\n",
      "杜: 1\n",
      "林: 1\n",
      "王: 1\n",
      "郭: 2\n",
      "陳: 2\n"
     ]
    }
   ],
   "source": [
    "# 1. Disassemble the person's name and obtain the 'name series'\n",
    "namestr = \"林豐祥、伊姿和、唐雅婷、陳弘婷、杜淑娟、曹俐火、王郁婷、吳鈺桂、陳瑞瑜、郭志豪、郭天芝\"\n",
    "names = namestr.split('、')\n",
    "\n",
    "# 2. Sort the 'name list'\n",
    "names.sort()\n",
    "\n",
    "# 3. Count the number of occurrences of surnames:\n",
    "surnames = [name[0] for name in names]  # Take out the surname part\n",
    "unique_surnames = list(set(surnames))   # Get different surnames\n",
    "\n",
    "# Count the number of occurrences of each surname\n",
    "surname_count = {surname: surnames.count(surname) for surname in unique_surnames} \n",
    "\n",
    "# Output statistical results\n",
    "for surname, count in sorted(surname_count.items()):\n",
    "    print(f\"{surname}: {count}\")\n"
   ]
  },
  {
   "cell_type": "code",
   "execution_count": null,
   "id": "ba1d4e96",
   "metadata": {},
   "outputs": [],
   "source": []
  },
  {
   "cell_type": "code",
   "execution_count": null,
   "id": "ffed2262",
   "metadata": {},
   "outputs": [],
   "source": []
  }
 ],
 "metadata": {
  "kernelspec": {
   "display_name": "Python 3",
   "language": "python",
   "name": "python3"
  },
  "language_info": {
   "codemirror_mode": {
    "name": "ipython",
    "version": 3
   },
   "file_extension": ".py",
   "mimetype": "text/x-python",
   "name": "python",
   "nbconvert_exporter": "python",
   "pygments_lexer": "ipython3",
   "version": "3.8.8"
  }
 },
 "nbformat": 4,
 "nbformat_minor": 5
}
