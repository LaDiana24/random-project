{
 "cells": [
  {
   "cell_type": "markdown",
   "id": "68b3c7da",
   "metadata": {},
   "source": [
    "**Python Homework 2**"
   ]
  },
  {
   "cell_type": "code",
   "execution_count": null,
   "id": "78edbe36",
   "metadata": {},
   "outputs": [],
   "source": [
    "# Problem 1:\n",
    "'''\n",
    "字串的拆解與合成: split and join。\n",
    "1) split('分隔字串')\n",
    "2) '分隔字串'.join(字串的串列)  # 串列的元素必須都是字串。\n",
    "\n",
    "已知 msg = '1,2,3,4'\n",
    "透過 split 可以將資料拆解如下:\n",
    "lst = msg.split(',') => ['1', '2', '3', '4']。\n",
    "\n",
    "現在希望將該串列還原成原來的字串形式，可以透過join來達成:\n",
    "','.join( lst ) => '1,2,3,4'\n",
    "\n",
    "如果想要將 data 拆解成下列形式的話(不包含減號部分)，該下那些指令?\n",
    "data = [5, 6, 7, 8]\n",
    "-----\n",
    "5\n",
    "6\n",
    "7\n",
    "8\n",
    "-----\n",
    "'''\n"
   ]
  },
  {
   "cell_type": "code",
   "execution_count": 8,
   "id": "d0ffd204",
   "metadata": {},
   "outputs": [
    {
     "name": "stdout",
     "output_type": "stream",
     "text": [
      "-----\n",
      "5\n",
      "6\n",
      "7\n",
      "8\n",
      "-----\n"
     ]
    }
   ],
   "source": [
    "# ANSWER NO 1\n",
    "\n",
    "data = [5, 6, 7, 8]\n",
    "str_data = [str(num) for num in data]  \n",
    "result = '\\n'.join(str_data)\n",
    "\n",
    "print(result)\n"
   ]
  },
  {
   "cell_type": "code",
   "execution_count": null,
   "id": "a5628cc7",
   "metadata": {},
   "outputs": [],
   "source": [
    "# Problem 2:\n",
    "'''\n",
    "假設有二維串列資料如下:\n",
    "lst2 = [[1, 2, 3, 4, 5], [6, 7, 8, 9, 10], [11, 12, 13, 14, 15], [16, 17, 18, 19, 20]]\n",
    "\n",
    "請寫 Python 程式將他們輸出成下列的 csv 格式:\n",
    "1,2,3,4,5\n",
    "6,7,8,9,10\n",
    "11,12,13,14,15\n",
    "16,17,18,19,20\n",
    "'''\n"
   ]
  },
  {
   "cell_type": "code",
   "execution_count": 12,
   "id": "dc39a89e",
   "metadata": {},
   "outputs": [],
   "source": [
    "# ANSWER NO 2\n",
    "\n",
    "import csv\n",
    "\n",
    "lst2 = [[1, 2, 3, 4, 5], [6, 7, 8, 9, 10], [11, 12, 13, 14, 15], [16, 17, 18, 19, 20] ]\n",
    "\n",
    "with open('problem_2.csv', 'w', newline='') as csvfile:\n",
    "    writer = csv.writer(csvfile)\n",
    "    \n",
    "    for r in lst2:\n",
    "        writer.writerow(r)"
   ]
  },
  {
   "cell_type": "code",
   "execution_count": 12,
   "id": "11610993",
   "metadata": {},
   "outputs": [
    {
     "name": "stdout",
     "output_type": "stream",
     "text": [
      "hello\n"
     ]
    }
   ],
   "source": [
    "# Problem 3:\n",
    "'''\n",
    "如何將一維資料，拆成二維的形式，或是反之，將二維資料，合成一維的形式。\n",
    "\n",
    "已知一維串列資料如下:\n",
    "lst = [k for k in range(1, 21)]\n",
    "\n",
    "請寫 Python 程式，將 lst 拆解成每列有 5 個元素的二維串列。\n",
    "'''\n"
   ]
  },
  {
   "cell_type": "code",
   "execution_count": 13,
   "id": "cc12d953",
   "metadata": {},
   "outputs": [
    {
     "name": "stdout",
     "output_type": "stream",
     "text": [
      "[[1, 2, 3, 4, 5], [6, 7, 8, 9, 10], [11, 12, 13, 14, 15], [16, 17, 18, 19, 20]]\n"
     ]
    }
   ],
   "source": [
    "# ANSWER NO 3\n",
    "\n",
    "lst = [k for k in range(1, 21)]\n",
    "result = [[lst[i] for i in range(j, j+5)] for j in range(0, len(lst), 5)]\n",
    "print(result) "
   ]
  },
  {
   "cell_type": "code",
   "execution_count": 10,
   "id": "81f10d5c",
   "metadata": {},
   "outputs": [
    {
     "data": {
      "text/plain": [
       "'\\n隨機生成發票號碼並完成對獎\\n\\nimport random as rand\\nrand.random()  => 0.15237536145350228\\n透過上述生成的隨機數，可以讓我們獲得一長串的\"數字\"。\\n\\n現在只要將上述的數值先轉換成字串，再從中截取需要的位數，就可以輕鬆取得多位數的數字字串內容。\\n例如，\\nr = rand.random()\\nprint(r)          => 0.8442004342633753\\nstr(r)[2: 10]     => \\'84420043\\' <-- 取出八位數。\\n\\n利用上述的建議，先請使用者輸入一個八位數的發票中獎號碼，\\n接著請隨機生成 10000 個八位數字，與該輸入號碼逐一進行比對，\\n最後請列出這 10000 筆隨機資料中，對中末1碼，對中末2碼，...，對中末8碼(全對)各有幾個?\\n'"
      ]
     },
     "execution_count": 10,
     "metadata": {},
     "output_type": "execute_result"
    }
   ],
   "source": [
    "# Problem 4:\n",
    "'''\n",
    "隨機生成發票號碼並完成對獎\n",
    "\n",
    "import random as rand\n",
    "rand.random()  => 0.15237536145350228\n",
    "透過上述生成的隨機數，可以讓我們獲得一長串的\"數字\"。\n",
    "\n",
    "現在只要將上述的數值先轉換成字串，再從中截取需要的位數，就可以輕鬆取得多位數的數字字串內容。\n",
    "例如，\n",
    "r = rand.random()\n",
    "print(r)          => 0.8442004342633753\n",
    "str(r)[2: 10]     => '84420043' <-- 取出八位數。\n",
    "\n",
    "利用上述的建議，先請使用者輸入一個八位數的發票中獎號碼，\n",
    "接著請隨機生成 10000 個八位數字，與該輸入號碼逐一進行比對，\n",
    "最後請列出這 10000 筆隨機資料中，對中末1碼，對中末2碼，...，對中末8碼(全對)各有幾個?\n",
    "'''\n"
   ]
  },
  {
   "cell_type": "code",
   "execution_count": 15,
   "id": "64ed4191",
   "metadata": {},
   "outputs": [
    {
     "name": "stdout",
     "output_type": "stream",
     "text": [
      "請輸入 8 位數的中獎發票號碼：234567890\n",
      "對中末 1 碼的發票有 3842 個\n",
      "對中末 2 碼的發票有 1462 個\n",
      "對中末 3 碼的發票有 349 個\n",
      "對中末 4 碼的發票有 46 個\n",
      "對中末 5 碼的發票有 7 個\n",
      "對中末 6 碼的發票有 0 個\n",
      "對中末 7 碼的發票有 0 個\n",
      "對中末 8 碼的發票有 0 個\n"
     ]
    }
   ],
   "source": [
    "#ANSWER NO 4\n",
    "\n",
    "import random\n",
    "\n",
    "def generate_invoice_number():\n",
    "    return str(random.random())[2:10]\n",
    "\n",
    "def check_matching_digits(winning_number, generated_number):\n",
    "    matching_digits = 0\n",
    "    for i in range(8):\n",
    "        if winning_number[-i-1] == generated_number[-i-1]:\n",
    "            matching_digits += 1\n",
    "    return matching_digits\n",
    "\n",
    "winning_number = input(\"請輸入 8 位數的中獎發票號碼：\")\n",
    "\n",
    "matching_counts = [0] * 9 \n",
    "\n",
    "for _ in range(10000):\n",
    "    generated_number = generate_invoice_number()\n",
    "    matching_digits = check_matching_digits(winning_number, generated_number)\n",
    "    matching_counts[matching_digits] += 1 \n",
    "\n",
    "for i in range(1, 9):\n",
    "    print(f\"對中末 {i} 碼的發票有 {matching_counts[i]} 個\")\n"
   ]
  },
  {
   "cell_type": "code",
   "execution_count": null,
   "id": "1a000ee6",
   "metadata": {},
   "outputs": [],
   "source": [
    "# Problem 5:\n",
    "'''\n",
    "如何生成樂透中的數字: 使用 random.shuffle。\n",
    "\n",
    "一個可以產生若干位不重複的數字的方法就是: 先將所有數字存在串列中，接著對他們進行洗牌(互換)，最後再從中取出需要的位數。\n",
    "如此一來，數字會落在期望的範圍，同時選出來的也不會出現重複的狀況。\n",
    "\n",
    "例如，要生成數字在 0 ~ 9 範圍中的 4 個不重複數字，可以下列程式完成:\n",
    "------------------------------------------------------------------\n",
    "import random as rand\n",
    "\n",
    "lst = [k for k in range(10)]  # 產生串列: [0, 1, 2, ..., 8, 9]。\n",
    "print(lst)\n",
    "\n",
    "rand.shuffle(lst)  # 對 lst 進行洗牌(隨機互換)。\n",
    "lst[:4]  # 任選前四個。\n",
    "------------------------------------------------------------------\n",
    "\n",
    "接著請隨機產生一組中獎號碼，同時生成 10000 組隨機的號碼，與該中獎號碼逐一進行比對，\n",
    "最後請列出這 10000 筆隨機號碼中，對中1碼，對中2碼，...，對中6碼(全對)各有幾個?\n",
    "'''\n"
   ]
  },
  {
   "cell_type": "code",
   "execution_count": 18,
   "id": "85c7bf8f",
   "metadata": {},
   "outputs": [
    {
     "name": "stdout",
     "output_type": "stream",
     "text": [
      "中獎號碼: [41, 8, 13, 31, 25, 26]\n",
      "對中 1 個號碼的共有 4210 組\n",
      "對中 2 個號碼的共有 1340 組\n",
      "對中 3 個號碼的共有 182 組\n",
      "對中 4 個號碼的共有 10 組\n",
      "對中 5 個號碼的共有 0 組\n",
      "對中 6 個號碼的共有 0 組\n"
     ]
    }
   ],
   "source": [
    "import random\n",
    "\n",
    "def generate_random_nums():\n",
    "    numbers = list(range(1, 50)) \n",
    "    random.shuffle(numbers)\n",
    "    return numbers[:6]\n",
    "\n",
    "def count_matching_nums(winning_numbers, generated_numbers):\n",
    "    return len(set(winning_numbers) & set(generated_numbers))\n",
    "\n",
    "winning_numbers = generate_random_nums()\n",
    "print(\"中獎號碼:\", winning_numbers)\n",
    "\n",
    "matching_counts = [0] * 7\n",
    "\n",
    "for _ in range(10000):\n",
    "    generated_numbers = generate_random_nums()\n",
    "    matching_count = count_matching_numbers(winning_numbers, generated_numbers)\n",
    "    matching_counts[matching_count] += 1\n",
    "\n",
    "for i in range(1, 7):\n",
    "    print(f\"對中 {i} 個號碼的共有 {matching_counts[i]} 組\")\n"
   ]
  },
  {
   "cell_type": "code",
   "execution_count": null,
   "id": "7c0e1436",
   "metadata": {},
   "outputs": [],
   "source": []
  }
 ],
 "metadata": {
  "kernelspec": {
   "display_name": "Python 3",
   "language": "python",
   "name": "python3"
  },
  "language_info": {
   "codemirror_mode": {
    "name": "ipython",
    "version": 3
   },
   "file_extension": ".py",
   "mimetype": "text/x-python",
   "name": "python",
   "nbconvert_exporter": "python",
   "pygments_lexer": "ipython3",
   "version": "3.8.8"
  }
 },
 "nbformat": 4,
 "nbformat_minor": 5
}
