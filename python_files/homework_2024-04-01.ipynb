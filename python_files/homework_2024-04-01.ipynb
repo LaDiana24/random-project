{
 "cells": [
  {
   "cell_type": "code",
   "execution_count": 3,
   "id": "9c55120d",
   "metadata": {},
   "outputs": [
    {
     "name": "stdout",
     "output_type": "stream",
     "text": [
      "Enter the month (as a number): 4\n",
      "Enter the day: 24\n",
      "Constellation: Taurus (4.20~5.20)\n"
     ]
    }
   ],
   "source": [
    "def find_constellation(month, day):\n",
    "    if (month == 12 and day >= 22) or (month == 1 and day <= 19):\n",
    "        return \"Capricorn (12.22~1.19)\"\n",
    "    elif (month == 1 and day >= 20) or (month == 2 and day <= 18):\n",
    "        return \"Aquarius (1.20~2.18)\"\n",
    "    elif (month == 2 and day >= 19) or (month == 3 and day <= 20):\n",
    "        return \"Pisces (2.19~3.20)\"\n",
    "    elif (month == 3 and day >= 21) or (month == 4 and day <= 19):\n",
    "        return \"Aries (3.21~4.19)\"\n",
    "    elif (month == 4 and day >= 20) or (month == 5 and day <= 20):\n",
    "        return \"Taurus (4.20~5.20)\"\n",
    "    elif (month == 5 and day >= 21) or (month == 6 and day <= 20):\n",
    "        return \"Gemini (5.21~6.20)\"\n",
    "    elif (month == 6 and day >= 21) or (month == 7 and day <= 22):\n",
    "        return \"Cancer (6.21~7.22)\"\n",
    "    elif (month == 7 and day >= 23) or (month == 8 and day <= 22):\n",
    "        return \"Leo (7.23~8.22)\"\n",
    "    elif (month == 8 and day >= 23) or (month == 9 and day <= 22):\n",
    "        return \"Virgo (8.23~9.22)\"\n",
    "    elif (month == 9 and day >= 23) or (month == 10 and day <= 22):\n",
    "        return \"Libra (9.23~10.22)\"\n",
    "    elif (month == 10 and day >= 23) or (month == 11 and day <= 21):\n",
    "        return \"Scorpio (10.23~11.21)\"\n",
    "    elif (month == 11 and day >= 22) or (month == 12 and day <= 21):\n",
    "        return \"Sagittarius (11.22~12.21)\"\n",
    "    else:\n",
    "        return \"Invalid date\"\n",
    "\n",
    "# Input month and day\n",
    "month = int(input(\"Enter the month (as a number): \"))\n",
    "day = int(input(\"Enter the day: \"))\n",
    "\n",
    "# Find the constellation\n",
    "constellation = find_constellation(month, day)\n",
    "\n",
    "# Display the result\n",
    "print(\"Constellation:\", constellation)\n"
   ]
  },
  {
   "cell_type": "code",
   "execution_count": null,
   "id": "14af6380",
   "metadata": {},
   "outputs": [],
   "source": [
    "def horoscope(month, day):\n",
    "    constellations = {\n",
    "        \"Capricorn (12.22~1.19)\": {(month == 12 and day >= 22) or (month == 1 and day >= 19)},\n",
    "        \"Aquarius (1.20~2.18)\": {(month == 1 and day >= 20) or (month == 2 and day <= 18)},\n",
    "        \"Pisces (2.19~3.20)\": {(month == 2 and day >= 19) or (month == 3 and day <= 20)},\n",
    "        \"Aries (3.21~4.19)\": {(month == 3 and day >= 21) or (month == 4 and day <= 19)},\n",
    "        \"Taurus (4.20~5.20)\": {(month == 4 and day >= 20) or (month == 5 and day <= 20),\n",
    "        \"Gemini (5.21~6.20)\": {(month == 5 and day >= 21) or (month == 6 and day <= 20)},\n",
    "        \"Cancer (6.21~7.22)\": {(month == 6 and day >= 21) or (month == 7 and day <= 22)},\n",
    "        \"Leo (7.23~8.22)\": {\"start_day\": 23, \"end_day\": 22, \"start_month\": 8, \"end_month\": 9},\n",
    "        \"Virgo (8.23~9.22)\": {\"start_day\": 23, \"end_day\": 22, \"start_month\": 9, \"end_month\": 10},\n",
    "        \"Libra (9.23~10.22)\": {\"start_day\": 23, \"end_day\": 22, \"start_month\": 10, \"end_month\": 11},\n",
    "        \"Scorpio (10.23~11.21)\": {\"start_day\": 23, \"end_day\": 21, \"start_month\": 11, \"end_month\": 12},\n",
    "        \"Sagittarius (11.22~12.21)\": {\"start_day\": 22, \"end_day\": 21, \"start_month\": 12, \"end_month\": 12},\n",
    "    }\n",
    "    \n",
    "# Input month and day\n",
    "month = int(input(\"Enter the month (as a number): \"))\n",
    "day = int(input(\"Enter the day: \"))"
   ]
  },
  {
   "cell_type": "code",
   "execution_count": 11,
   "id": "c0f7b0c7",
   "metadata": {},
   "outputs": [
    {
     "name": "stdout",
     "output_type": "stream",
     "text": [
      "Enter the month (as a number): 4\n",
      "Enter the day: 25\n",
      "Your constellation is 金牛座 (4.20 ~ 5.20).\n"
     ]
    }
   ],
   "source": [
    "constellation_dates = {\n",
    "    '魔羯座': (12, 22, 1, 19),\n",
    "    '水瓶座': (1, 20, 2, 18),\n",
    "    '雙魚座': (2, 19, 3, 20),\n",
    "    '牡羊座': (3, 21, 4, 19),\n",
    "    '金牛座': (4, 20, 5, 20),\n",
    "    '雙子座': (5, 21, 6, 20),\n",
    "    '巨蟹座': (6, 21, 7, 22),\n",
    "    '獅子座': (7, 23, 8, 22),\n",
    "    '處女座': (8, 23, 9, 22),\n",
    "    '天秤座': (9, 23, 10, 22),\n",
    "    '天蠍座': (10, 23, 11, 21),\n",
    "    '射手座': (11, 22, 12, 21)\n",
    "    }\n",
    "\n",
    "def get_constellation(month, day):\n",
    "    for constellation, dates in constellation_dates.items():\n",
    "        start_month, start_day, end_month, end_day = dates\n",
    "        if (month == start_month and day >= start_day) or (month == end_month and day <= end_day):\n",
    "            return constellation, f'{start_month}.{start_day} ~ {end_month}.{end_day}'\n",
    "    # invalid case\n",
    "    return None, None\n",
    "\n",
    "month = int(input(\"Enter the month (as a number): \"))\n",
    "day = int(input(\"Enter the day: \"))\n",
    "constellation, date_range = get_constellation(month, day)\n",
    "if constellation:\n",
    "    print(f\"Your constellation is {constellation} ({date_range}).\")\n",
    "else:\n",
    "    print(\"Invalid date\")"
   ]
  },
  {
   "cell_type": "code",
   "execution_count": 24,
   "id": "74438161",
   "metadata": {},
   "outputs": [
    {
     "name": "stdout",
     "output_type": "stream",
     "text": [
      "廖: 靜宜、吳百凱、陳懿沛、蔡仁芸、王彥君、陳鈺瑋、林珊群、許萬昌、黃靜東、陳佩舜、林怡喜\n"
     ]
    }
   ],
   "source": [
    "def collect_name(namestr):\n",
    "    name_dict = {}\n",
    "    \n",
    "    names = namestr.split(\", \")\n",
    "    for name in names:\n",
    "        surname = name[0]\n",
    "        firstname = name[1:]\n",
    "        \n",
    "        if surname in name_dict:\n",
    "            name_dict[surname].append(firstname)\n",
    "        else:\n",
    "            name_dict[surname] = [firstname]\n",
    "            \n",
    "    return name_dict\n",
    "\n",
    "def print_names(name_dict):\n",
    "    for surname, firstname in name_dict.items():\n",
    "        print(f\"{surname}: {','.join(firstname)}\")\n",
    "\n",
    "namestr = \"廖靜宜、吳百凱、陳懿沛、蔡仁芸、王彥君、陳鈺瑋、林珊群、許萬昌、黃靜東、陳佩舜、林怡喜\"\n",
    "name_dict = collect_name(namestr)\n",
    "print_names(name_dict)   "
   ]
  },
  {
   "cell_type": "code",
   "execution_count": 26,
   "id": "e3a1adc7",
   "metadata": {},
   "outputs": [
    {
     "name": "stdout",
     "output_type": "stream",
     "text": [
      "Last Name: First Names\n",
      "廖: 靜宜\n",
      "吳: 百凱\n",
      "陳: 懿沛、鈺瑋、佩舜\n",
      "蔡: 仁芸\n",
      "王: 彥君\n",
      "林: 珊群、怡喜\n",
      "許: 萬昌\n",
      "黃: 靜東\n"
     ]
    }
   ],
   "source": [
    "namestr = \"廖靜宜、吳百凱、陳懿沛、蔡仁芸、王彥君、陳鈺瑋、林珊群、許萬昌、黃靜東、陳佩舜、林怡喜\"\n",
    "names = [name.strip() for name in namestr.split(\"、\")]\n",
    "name_dict = {}\n",
    "\n",
    "\n",
    "for name in names:\n",
    "    last_name = name[0]\n",
    "    first_name = name[1:]\n",
    "    \n",
    "    if last_name in name_dict:\n",
    "        name_dict[last_name].append(first_name)\n",
    "    else:        \n",
    "        name_dict[last_name] = [first_name]\n",
    "\n",
    "print(\"Last Name: First Names\")\n",
    "for last_name, first_names in name_dict.items():\n",
    "    print(f\"{last_name}: {'、'.join(first_names)}\")\n"
   ]
  },
  {
   "cell_type": "code",
   "execution_count": null,
   "id": "3b4f0d92",
   "metadata": {},
   "outputs": [],
   "source": [
    "namestr = \"廖靜宜、吳百凱、陳懿沛、蔡仁芸、王彥君、陳鈺瑋、林珊群、許萬昌、黃靜東、陳佩舜、林怡喜\"\n",
    "names = [name.strip() for name in namestr.split(\"、\")]# Split the names by comma and remove any leading or trailing spaces\n",
    "name_dict = {}# Initialize a dictionary to store last names and corresponding first names\n",
    "\n",
    "# Iterate through each name\n",
    "for name in names:# Split the name into last name and first name\n",
    "    last_name = name[0]\n",
    "    first_name = name[1:]\n",
    "    \n",
    "    if last_name in name_dict:# Check if the last name already exists in the dictionary\n",
    "        name_dict[last_name].append(first_name)# If yes, append the first name to the existing list\n",
    "    else:        \n",
    "        name_dict[last_name] = [first_name]# If no, create a new list with the first name as its only element\n",
    "\n",
    "# Output the results\n",
    "print(\"Last Name: First Names\")\n",
    "for last_name, first_names in name_dict.items():\n",
    "    print(f\"{last_name}: {'、'.join(first_names)}\")"
   ]
  },
  {
   "cell_type": "code",
   "execution_count": null,
   "id": "f778e71c",
   "metadata": {},
   "outputs": [],
   "source": []
  }
 ],
 "metadata": {
  "kernelspec": {
   "display_name": "Python 3",
   "language": "python",
   "name": "python3"
  },
  "language_info": {
   "codemirror_mode": {
    "name": "ipython",
    "version": 3
   },
   "file_extension": ".py",
   "mimetype": "text/x-python",
   "name": "python",
   "nbconvert_exporter": "python",
   "pygments_lexer": "ipython3",
   "version": "3.8.8"
  }
 },
 "nbformat": 4,
 "nbformat_minor": 5
}
