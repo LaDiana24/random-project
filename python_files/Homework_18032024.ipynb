{
 "cells": [
  {
   "cell_type": "markdown",
   "id": "9c9ae6ca",
   "metadata": {},
   "source": [
    "> HW No 1 Answer "
   ]
  },
  {
   "cell_type": "code",
   "execution_count": 4,
   "id": "9083be89",
   "metadata": {},
   "outputs": [
    {
     "name": "stdout",
     "output_type": "stream",
     "text": [
      "Please enter the score of section 1:\n",
      "43\n",
      "Please enter the score of section 2:\n",
      "50\n",
      "Please enter the score of section 3:\n",
      "60\n",
      "Please enter the score of section 4:\n",
      "79\n",
      "Please enter the score of section 5:\n",
      "88\n",
      "Scores >= 60:\n",
      "60.0\n",
      "79.0\n",
      "88.0\n",
      "Scores < 60:\n",
      "43.0\n",
      "50.0\n"
     ]
    }
   ],
   "source": [
    "#To enter the list of numbers:\n",
    "print(\"Please enter the score of section 1:\")\n",
    "score1 = float(input())\n",
    "print(\"Please enter the score of section 2:\")\n",
    "score2 = float(input())\n",
    "print(\"Please enter the score of section 3:\")\n",
    "score3 = float(input())\n",
    "print(\"Please enter the score of section 4:\")\n",
    "score4 = float(input())\n",
    "print(\"Please enter the score of section 5:\")\n",
    "score5 = float(input())\n",
    "\n",
    "# Funtion of the score bigger or equal to 60:\n",
    "print(\"Scores >= 60:\")\n",
    "if score1 >= 60:\n",
    "    print(score1)\n",
    "if score2 >= 60:\n",
    "    print(score2)\n",
    "if score3 >= 60:\n",
    "    print(score3)\n",
    "if score4 >= 60:\n",
    "    print(score4)\n",
    "if score5 >= 60:\n",
    "    print(score5)\n",
    "\n",
    "# Function of scores if it less than 60:\n",
    "print(\"Scores < 60:\")\n",
    "if score1 < 60:\n",
    "    print(score1)\n",
    "if score2 < 60:\n",
    "    print(score2)\n",
    "if score3 < 60:\n",
    "    print(score3)\n",
    "if score4 < 60:\n",
    "    print(score4)\n",
    "if score5 < 60:\n",
    "    print(score5)"
   ]
  },
  {
   "cell_type": "code",
   "execution_count": 5,
   "id": "20353523",
   "metadata": {},
   "outputs": [
    {
     "name": "stdout",
     "output_type": "stream",
     "text": [
      "Please enter the score of subject 1: 34\n",
      "Please enter the score of subject 2: 50\n",
      "Please enter the score of subject 3: 60\n",
      "Please enter the score of subject 4: 87\n",
      "Please enter the score of subject 5: 75\n",
      ">= 60: 60 87 75\n",
      "< 60: 34 50\n"
     ]
    }
   ],
   "source": [
    "# def function for enter and print the list of scores:\n",
    "def input_scores():\n",
    "    scores = []\n",
    "    for i in range(1, 6):\n",
    "        score = int(input(f\"Please enter the score of subject {i}: \"))\n",
    "        scores.append(score)\n",
    "    return scores\n",
    "\n",
    "# def function to print the list which score less than 60 and bigger/equal than 60:\n",
    "def print_scores(scores):\n",
    "    greater_than_equal_60 = [score for score in scores if score >= 60]\n",
    "    higher_than_60 = [score for score in scores if score > 60]\n",
    "    print(\">= 60:\", \" \".join(str(score) for score in greater_than_equal_60))\n",
    "    print(\"< 60:\", \" \".join(str(score) for score in scores if score < 60))\n",
    "\n",
    "# To simulating keyboard input\n",
    "scores = input_scores()\n",
    "\n",
    "# will printing scores\n",
    "print_scores(scores)\n"
   ]
  },
  {
   "cell_type": "code",
   "execution_count": 41,
   "id": "2c179fe4",
   "metadata": {
    "scrolled": false
   },
   "outputs": [
    {
     "name": "stdout",
     "output_type": "stream",
     "text": [
      "Please enter the score of subject 1: 67\n",
      "Please enter the score of subject 2: 79\n",
      "Please enter the score of subject 3: 94\n",
      "Please enter the score of subject 4: 48\n",
      "Please enter the score of subject 5: 52\n",
      ">= 60: 67 79 94\n",
      " < 60: 48 52\n"
     ]
    }
   ],
   "source": [
    "scores = []\n",
    "for i in range(1, 6):\n",
    "    score = int(input(f\"Please enter the score of subject {i}: \"))\n",
    "    scores.append(score)\n",
    "\n",
    "print(\">= 60:\", end=\" \")\n",
    "print(*[score for score in scores if score >= 60], sep=\" \")\n",
    "print(\" < 60:\", end=\" \")\n",
    "print(*[score for score in scores if score < 60], sep=\" \")"
   ]
  },
  {
   "cell_type": "code",
   "execution_count": 44,
   "id": "fe38f2ee",
   "metadata": {},
   "outputs": [
    {
     "name": "stdout",
     "output_type": "stream",
     "text": [
      "number 1:48\n",
      "number 2:65\n",
      "number 3:97\n",
      "number 4:55\n",
      "number 5:32\n",
      ">= 60:  65 97\n",
      "< 60:  48 55 32\n"
     ]
    }
   ],
   "source": [
    "n = 5\n",
    "\n",
    "count = 0\n",
    "over_60 = \">= 60: \"\n",
    "less_60 = \"< 60: \"\n",
    "\n",
    "while count< n:\n",
    "    inp = input(f\"number {count + 1}:\")\n",
    "    value = int(inp)\n",
    "    if value >= 60:\n",
    "        over_60 = over_60 + f\" {str(value)}\"\n",
    "    else:\n",
    "        less_60 += f\" {str(value)}\"\n",
    "    count = count + 1 # count += 1\n",
    "    \n",
    "print(over_60)\n",
    "print(less_60)"
   ]
  },
  {
   "cell_type": "markdown",
   "id": "33892b0e",
   "metadata": {},
   "source": [
    "> HW No 2 Answer:"
   ]
  },
  {
   "cell_type": "code",
   "execution_count": 7,
   "id": "5c6080f5",
   "metadata": {},
   "outputs": [
    {
     "name": "stdout",
     "output_type": "stream",
     "text": [
      "1\n",
      "12\n",
      "123\n",
      "1234\n",
      "12345\n"
     ]
    }
   ],
   "source": [
    "#The function \"for\" to print the list of 1 to 5 with special graphic:\n",
    "for i in range(1,6):\n",
    "    for j in range(1, i+1):\n",
    "        print(j, end=\"\")\n",
    "    print()"
   ]
  },
  {
   "cell_type": "code",
   "execution_count": 45,
   "id": "214a5190",
   "metadata": {},
   "outputs": [
    {
     "name": "stdout",
     "output_type": "stream",
     "text": [
      "    1\n",
      "   12\n",
      "  123\n",
      " 1234\n",
      "12345\n"
     ]
    }
   ],
   "source": [
    "n = 5\n",
    "result = \"\"\n",
    "for r in range(1, n+1):\n",
    "    result = result + str(r)\n",
    "    print(' ' * (n-r) + result)"
   ]
  },
  {
   "cell_type": "code",
   "execution_count": null,
   "id": "45b77216",
   "metadata": {},
   "outputs": [],
   "source": [
    "n = 5\n",
    "\n",
    "for r in range(1, n+1):\n",
    "    print(' ' * (n-r), end='')\n",
    "    for k in range(1, r+1):\n",
    "        print(k)\n",
    "    print()\n",
    "    \n",
    "print()"
   ]
  },
  {
   "cell_type": "markdown",
   "id": "011d5092",
   "metadata": {},
   "source": [
    " > HW No 3 Answer:"
   ]
  },
  {
   "cell_type": "code",
   "execution_count": 34,
   "id": "3c54323d",
   "metadata": {},
   "outputs": [
    {
     "name": "stdout",
     "output_type": "stream",
     "text": [
      "9\n",
      "89\n",
      "789\n",
      "6789\n",
      "56789\n",
      "456789\n",
      "3456789\n",
      "23456789\n",
      "123456789\n"
     ]
    }
   ],
   "source": [
    "for i in range(1, 10):\n",
    "    print(\"\" * (i - 1), end=\"\")\n",
    "    for j in range(10 - i, 10):\n",
    "        print(j, end=\"\")\n",
    "    print()"
   ]
  },
  {
   "cell_type": "code",
   "execution_count": 35,
   "id": "88dbaff2",
   "metadata": {},
   "outputs": [
    {
     "name": "stdout",
     "output_type": "stream",
     "text": [
      "         \n",
      "        9\n",
      "       89\n",
      "      789\n",
      "     6789\n",
      "    56789\n",
      "   456789\n",
      "  3456789\n",
      " 23456789\n",
      "123456789\n"
     ]
    }
   ],
   "source": [
    "for i in range(10):\n",
    "    print(' ' * (9 - i) + ''.join(str(j) for j in range(10 - i, 10)))"
   ]
  },
  {
   "cell_type": "markdown",
   "id": "14073762",
   "metadata": {},
   "source": [
    "> HW No 4"
   ]
  },
  {
   "cell_type": "code",
   "execution_count": 40,
   "id": "681b309d",
   "metadata": {},
   "outputs": [
    {
     "name": "stdout",
     "output_type": "stream",
     "text": [
      "University: National Taipei University of Technology \n",
      "class name: IEECCS\n",
      "name: Ila Rosdiana\n",
      "National Taipei University of Technology IEECCS Ila Rosdiana\n",
      "The same department as National Taipei University of Technology , not affiliated with Ila Rosdiana University\n",
      "Datong Taipei University of Science and Technology IEECCS\n",
      "Ila Rosdiana National Taipei University of Technology  IEECCS\n",
      "Department: Ila Rosdiana, National Taipei University of Technology \n",
      "Department Ila Rosdiana National Taipei University of Technology  No.\n",
      "IEECCSIla Rosdiana, National Taipei University of Technology \n",
      "Ila Rosdiana, Taipei University of Science and Technology\n",
      "University IEECCS Ila Rosdiana Taipei Science and Technology\n",
      "National Taiwan University of Science and Technology, IEECCS Ila Rosdiana, Taipei Science\n",
      "University of Science and Technology, IEECCS Ila Rosdiana, Taipei\n",
      "University of Science and Technology of China, IEECCS Ila Rosdiana\n"
     ]
    }
   ],
   "source": [
    "msg = input(\"University: \")\n",
    "class_name = input(\"class name: \")\n",
    "name = input(\"name: \")\n",
    "\n",
    "output = [\n",
    "    msg + class_name +  \" \" + name,\n",
    "    \"The same department as \" + msg + \", not affiliated with \" + name + \" University\",\n",
    "    \"Datong Taipei University of Science and Technology \" + class_name,\n",
    "    \"\" + name + \" \" + msg + \" \" + class_name,\n",
    "    \"Department: \" + name + \", \" + msg + \"\",\n",
    "    \"Department \" + name + \" \" + msg + \" No.\",\n",
    "    class_name + name + \", \" + msg,\n",
    "    \"\" + name + \", Taipei University of Science and Technology\",\n",
    "    \"University \" + class_name + \" \" + name + \" Taipei Science and Technology\",\n",
    "    \"National Taiwan University of Science and Technology, \" + class_name + \" \" + name + \", Taipei Science\",\n",
    "    \"University of Science and Technology, \" + class_name + \" \" + name + \", Taipei\",\n",
    "    \"University of Science and Technology of China, \" + class_name + \" \" + name\n",
    "]\n",
    "\n",
    "for line in output:\n",
    "    print(line)"
   ]
  },
  {
   "cell_type": "code",
   "execution_count": null,
   "id": "ecaa9bd5",
   "metadata": {},
   "outputs": [],
   "source": []
  }
 ],
 "metadata": {
  "kernelspec": {
   "display_name": "Python 3",
   "language": "python",
   "name": "python3"
  }
 },
 "nbformat": 4,
 "nbformat_minor": 5
}
