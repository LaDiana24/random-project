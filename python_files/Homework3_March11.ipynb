{
 "cells": [
  {
   "cell_type": "markdown",
   "id": "25fbdacc",
   "metadata": {},
   "source": [
    "$ No_1_Answer$"
   ]
  },
  {
   "cell_type": "code",
   "execution_count": 37,
   "id": "3f2b4306",
   "metadata": {},
   "outputs": [
    {
     "name": "stdout",
     "output_type": "stream",
     "text": [
      "Please enter an integer: 3\n",
      "3 is a positive number\n",
      "3 is an odd number\n"
     ]
    }
   ],
   "source": [
    "# Take input from user\n",
    "num = int(input(\"Please enter an integer: \"))\n",
    "\n",
    "\n",
    "# Check if the number is positive or negative\n",
    "if num > 0:\n",
    "    print(num, \"is a positive number\")\n",
    "elif num < 0:\n",
    "    print(num, \"is a negative number\")\n",
    "else:\n",
    "    print(num, \"is neither positive nor negative\")\n",
    "\n",
    "# Check if the number is odd or even\n",
    "if num % 2 == 0:\n",
    "    print(num, \"is an even number\")\n",
    "else:\n",
    "    print(num, \"is an odd number\")"
   ]
  },
  {
   "cell_type": "markdown",
   "id": "9b48c781",
   "metadata": {},
   "source": [
    "$No_2_Answer$"
   ]
  },
  {
   "cell_type": "code",
   "execution_count": 16,
   "id": "2949d352",
   "metadata": {},
   "outputs": [
    {
     "name": "stdout",
     "output_type": "stream",
     "text": [
      "Enter an integer: 12\n",
      "Enter an integer: 37\n",
      "Enter an integer: 92\n",
      "Enter an integer: 51\n",
      "Enter an integer: 48\n",
      "3 Even numbers:  [12, 92, 48]\n",
      "2 Odd numbers:  [37, 51]\n"
     ]
    }
   ],
   "source": [
    "even_numbers = []\n",
    "odd_numbers = []\n",
    "\n",
    "i = 1\n",
    "while i <= 5:\n",
    "    num = int(input(\"Enter an integer: \"))\n",
    "    if num % 2 == 0:\n",
    "        even_numbers.append(num)\n",
    "    else:\n",
    "        odd_numbers.append(num)\n",
    "    i += 1\n",
    "\n",
    "print(len(even_numbers), \"Even numbers: \", even_numbers)\n",
    "print(len(odd_numbers), \"Odd numbers: \", odd_numbers)"
   ]
  },
  {
   "cell_type": "markdown",
   "id": "55c3e793",
   "metadata": {},
   "source": [
    "$No_3_Answer$"
   ]
  },
  {
   "cell_type": "code",
   "execution_count": 40,
   "id": "b9d4bf10",
   "metadata": {},
   "outputs": [
    {
     "name": "stdout",
     "output_type": "stream",
     "text": [
      "1) Celsius to Fahrenheit temperature conversion\n",
      "2) Calculate BMI\n",
      "3) Fahrenheit to Celcius temperature conversion\n",
      "Your choice is: \n",
      "1\n",
      "Please enter the temperature in Celsius: 23\n",
      "Approximately 73.40 degrees Fahrenheit.\n",
      "Do you want to continue? (y/n): y\n",
      "1) Celsius to Fahrenheit temperature conversion\n",
      "2) Calculate BMI\n",
      "3) Fahrenheit to Celcius temperature conversion\n",
      "Your choice is: \n",
      "2\n",
      "Please enter height (cm): 165\n",
      "Please enter weight (kg): 45\n",
      "BMI = 16.53\n",
      "Do you want to continue? (y/n): y\n",
      "1) Celsius to Fahrenheit temperature conversion\n",
      "2) Calculate BMI\n",
      "3) Fahrenheit to Celcius temperature conversion\n",
      "Your choice is: \n",
      "3\n",
      "Please enter the temperature in fahrenheit: 100\n",
      "Approximately 37.78 degrees Celcius.\n",
      "Do you want to continue? (y/n): n\n"
     ]
    }
   ],
   "source": [
    "def celsius_to_fahrenheit():\n",
    "    celsius = float(input(\"Please enter the temperature in Celsius: \"))\n",
    "    fahrenheit = (9/5 * celsius) + 32\n",
    "    print(\"Approximately {:.2f} degrees Fahrenheit.\".format(fahrenheit))\n",
    "    \n",
    "def fahrenheit_to_celcius():\n",
    "    fahrenheit = float(input(\"Please enter the temperature in fahrenheit: \"))\n",
    "    celcius = (fahrenheit - 32) * 5/9\n",
    "    print(\"Approximately {:.2f} degrees Celcius.\".format(celcius))    \n",
    "\n",
    "def calculate_bmi():\n",
    "    height = float(input(\"Please enter height (cm): \"))\n",
    "    weight = float(input(\"Please enter weight (kg): \"))\n",
    "    bmi = weight / (height/100)**2\n",
    "    print(\"BMI = {:.2f}\".format(bmi))\n",
    "\n",
    "def display_options():\n",
    "    print(\"1) Celsius to Fahrenheit temperature conversion\")\n",
    "    print(\"2) Calculate BMI\")\n",
    "    print(\"3) Fahrenheit to Celcius temperature conversion\")\n",
    "    print(\"Your choice is: \")\n",
    "\n",
    "def main():\n",
    "    while True:\n",
    "        display_options()\n",
    "        choice = int(input())\n",
    "        if choice == 1:\n",
    "            celsius_to_fahrenheit()\n",
    "        elif choice == 2:\n",
    "            calculate_bmi()\n",
    "        elif choice == 3:\n",
    "            fahrenheit_to_celcius()\n",
    "        else:\n",
    "            print(\"Invalid choice. Please try again.\")\n",
    "        cont = input(\"Do you want to continue? (y/n): \")\n",
    "        if cont.lower() != 'y':\n",
    "            break\n",
    "\n",
    "if __name__ == \"__main__\":\n",
    "    main()"
   ]
  },
  {
   "cell_type": "markdown",
   "id": "e2e64132",
   "metadata": {},
   "source": [
    "$No_4_Answer$"
   ]
  },
  {
   "cell_type": "code",
   "execution_count": 35,
   "id": "33f76f02",
   "metadata": {},
   "outputs": [
    {
     "name": "stdout",
     "output_type": "stream",
     "text": [
      "Please enter a positive integer n: 5\n",
      "    5\n",
      "   545\n",
      "  54345\n",
      " 5432345\n",
      "543212345\n"
     ]
    }
   ],
   "source": [
    "def print_text_graphics(n):\n",
    "    if n < 2 or n > 9:\n",
    "        print(\"Please enter a positive integer n, where 2 <= n <= 9.\")\n",
    "        return\n",
    "\n",
    "    for i in range(1, n + 1):\n",
    "        # leading spaces\n",
    "        print(\" \" * (n - i), end=\"\")\n",
    "        # decreasing sequence\n",
    "        for j in range(n, n - i, -1):\n",
    "            print(j, end=\"\")\n",
    "        # increasing sequence\n",
    "        for j in range(n - i + 2, n + 1):\n",
    "            print(j, end=\"\")\n",
    "        print()\n",
    "\n",
    "\n",
    "n = int(input(\"Please enter a positive integer n: \"))\n",
    "print_text_graphics(n)"
   ]
  },
  {
   "cell_type": "code",
   "execution_count": 39,
   "id": "a4de797e",
   "metadata": {},
   "outputs": [
    {
     "name": "stdout",
     "output_type": "stream",
     "text": [
      "Please enter an integer: -3\n",
      "-3 is a negative odd number\n"
     ]
    }
   ],
   "source": [
    "try:\n",
    "    number = int(input(\"Please enter an integer: \"))\n",
    "except ValueError:\n",
    "    print(\"Invalid input\")\n",
    "    exit(1)\n",
    "    \n",
    "# To determine properties\n",
    "positive = number > 0\n",
    "negative = number < 0\n",
    "even = number % 2 == 0\n",
    "odd = not even\n",
    "\n",
    "# The Output\n",
    "if positive:\n",
    "    if even:\n",
    "        print(f\"{number} is a positive even number\")\n",
    "    else:\n",
    "        print(f\"{number} is a positive odd number\")\n",
    "elif negative:\n",
    "    if even:\n",
    "        print(f\"{number} is a negative even number\")\n",
    "    else:\n",
    "        print(f\"{number} is a negative odd number\")\n",
    "else:\n",
    "    print(\"The number is zero\")"
   ]
  },
  {
   "cell_type": "code",
   "execution_count": null,
   "id": "eb751dd5",
   "metadata": {},
   "outputs": [],
   "source": []
  }
 ],
 "metadata": {
  "kernelspec": {
   "display_name": "Python 3",
   "language": "python",
   "name": "python3"
  },
  "language_info": {
   "codemirror_mode": {
    "name": "ipython",
    "version": 3
   },
   "file_extension": ".py",
   "mimetype": "text/x-python",
   "name": "python",
   "nbconvert_exporter": "python",
   "pygments_lexer": "ipython3",
   "version": "3.8.8"
  }
 },
 "nbformat": 4,
 "nbformat_minor": 5
}
