{
 "cells": [
  {
   "cell_type": "code",
   "execution_count": 1,
   "id": "e49b5409",
   "metadata": {},
   "outputs": [
    {
     "name": "stdout",
     "output_type": "stream",
     "text": [
      "1! = 1\n",
      "2! = 2\n",
      "3! = 6\n",
      "4! = 24\n",
      "5! = 120\n",
      "6! = 720\n",
      "7! = 5040\n",
      "8! = 40320\n",
      "9! = 362880\n",
      "10! = 3628800\n",
      "11! = 39916800\n",
      "12! = 479001600\n",
      "13! = 6227020800\n",
      "14! = 87178291200\n",
      "15! = 1307674368000\n",
      "16! = 20922789888000\n",
      "17! = 355687428096000\n",
      "18! = 6402373705728000\n",
      "19! = 121645100408832000\n",
      "20! = 2432902008176640000\n",
      "21! = 51090942171709440000\n",
      "22! = 1124000727777607680000\n",
      "23! = 25852016738884976640000\n",
      "24! = 620448401733239439360000\n",
      "25! = 15511210043330985984000000\n"
     ]
    }
   ],
   "source": [
    "def factorial(n):\n",
    "    if n == 0 or n == 1:\n",
    "        return 1\n",
    "    else:\n",
    "        return n * factorial(n - 1)\n",
    "\n",
    "# 印出 1 ~ 25 的階乘計算結果 __ Print out the factorial calculation results from 1 to 25\n",
    "for i in range(1, 26):\n",
    "    print(f\"{i}! = {factorial(i)}\")\n"
   ]
  },
  {
   "cell_type": "code",
   "execution_count": 5,
   "id": "cde83bbe",
   "metadata": {},
   "outputs": [
    {
     "name": "stdout",
     "output_type": "stream",
     "text": [
      "Fibonacci numbers:\n",
      "1, 1, 2, 3, 5, 8, 13, 21, 34, 55, "
     ]
    }
   ],
   "source": [
    "def fibonacci(n):\n",
    "    if n <= 1:\n",
    "        return 1\n",
    "    else:\n",
    "        return fibonacci(n - 1) + fibonacci(n - 2)\n",
    "\n",
    "# 計算並印出 Fibonacci 數列的前 10 項 __ Calculate and print the first 10 terms of the Fibonacci sequence\n",
    "print(\"Fibonacci numbers:\")\n",
    "for i in range(10):\n",
    "    print(fibonacci(i), end=\", \")\n"
   ]
  },
  {
   "cell_type": "code",
   "execution_count": 9,
   "id": "604068b6",
   "metadata": {},
   "outputs": [
    {
     "name": "stdout",
     "output_type": "stream",
     "text": [
      "請輸入要顯示幾項的 Fibonacci 數列: 0\n",
      "請重新輸入！\n",
      "請輸入要顯示幾項的 Fibonacci 數列: 12\n",
      "[1, 1, 2, 3, 5, 8, 13, 21, 34, 55, 89, 144]\n"
     ]
    }
   ],
   "source": [
    "def show_fib(n):\n",
    "    if n <= 0:\n",
    "        print(\"請重新輸入！\") #Ask the user to enter again\n",
    "    else:\n",
    "        fib_list = [1, 1]\n",
    "        for i in range(2, n):\n",
    "            fib_list.append(fib_list[-1] + fib_list[-2])\n",
    "        return fib_list[:n]\n",
    "\n",
    "# Asking user for input\n",
    "n = int(input(\"請輸入要顯示幾項的 Fibonacci 數列: \"))#want the user to enter the number of Fibonacci sequences you want to display\n",
    "show_fib(n)\n",
    "\n",
    "# Calling the function and displaying the Fibonacci sequence\n",
    "n2 = int(input(\"請輸入要顯示幾項的 Fibonacci 數列: \"))#want the user to enter the number of Fibonacci sequences you want to display\n",
    "print(show_fib(n2))"
   ]
  },
  {
   "cell_type": "code",
   "execution_count": null,
   "id": "9eb85a79",
   "metadata": {},
   "outputs": [],
   "source": []
  }
 ],
 "metadata": {
  "kernelspec": {
   "display_name": "Python 3",
   "language": "python",
   "name": "python3"
  },
  "language_info": {
   "codemirror_mode": {
    "name": "ipython",
    "version": 3
   },
   "file_extension": ".py",
   "mimetype": "text/x-python",
   "name": "python",
   "nbconvert_exporter": "python",
   "pygments_lexer": "ipython3",
   "version": "3.8.8"
  }
 },
 "nbformat": 4,
 "nbformat_minor": 5
}
