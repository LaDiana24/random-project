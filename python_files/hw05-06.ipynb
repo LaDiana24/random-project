{
 "cells": [
  {
   "cell_type": "code",
   "execution_count": 14,
   "id": "c5b8f210",
   "metadata": {},
   "outputs": [
    {
     "name": "stdout",
     "output_type": "stream",
     "text": [
      "\n",
      "CAT are lovely and lazy animals.\n",
      "CAT are lovely and lazy animals.\n",
      "CAT are lovely and lazy animals.\n",
      "CAT are lovely and lazy animals.\n",
      "CAT are lovely and lazy animals.\n",
      "CAT are lovely and lazy animals.\n",
      "CAT are lovely and lazy animals.\n",
      "CAT are lovely and lazy animals.\n"
     ]
    }
   ],
   "source": [
    "import re\n",
    "\n",
    "msg = \"\"\"\n",
    "cats are lovely and lazy animals.\n",
    "Cats are lovely and lazy animals.\n",
    "CAts are lovely and lazy animals.\n",
    "Cats are lovely and lazy animals.\n",
    "cAts are lovely and lazy animals.\n",
    "cATs are lovely and lazy animals.\n",
    "caTs are lovely and lazy animals.\n",
    "CaTs are lovely and lazy animals.\"\"\"\n",
    "\n",
    "# Use the \"re\" module to replace\n",
    "msg_modified = re.sub(r'([Cc][Aa][Tt][Ss])', 'CAT', msg)\n",
    "\n",
    "print(msg_modified)\n"
   ]
  },
  {
   "cell_type": "code",
   "execution_count": 29,
   "id": "431d58bd",
   "metadata": {},
   "outputs": [
    {
     "name": "stdout",
     "output_type": "stream",
     "text": [
      "\n",
      "This MOVIE so interesting.\n",
      "This MOVIE so interesting.\n",
      "This MOVIE so interesting.\n",
      "This MOVIE so interesting.\n",
      "This MOVIE so interesting.\n",
      "This MOVIE so interesting.\n",
      "This MOVIE so interesting.\n",
      "\n"
     ]
    }
   ],
   "source": [
    "import re\n",
    "\n",
    "msg =\"\"\"\n",
    "This Movie so interesting.\n",
    "This MOVIE so interesting.\n",
    "This mOvie so interesting.\n",
    "This moVie so interesting.\n",
    "This movIe so interesting.\n",
    "This moviE so interesting.\n",
    "This movie so interesting.\n",
    "\"\"\"\n",
    "msg_mod = re.sub(r'([Mm][Oo][Vv][Ii][Ee])', 'MOVIE', msg)\n",
    "\n",
    "print(msg_mod)"
   ]
  },
  {
   "cell_type": "code",
   "execution_count": 41,
   "id": "89e7bb67",
   "metadata": {},
   "outputs": [
    {
     "name": "stdout",
     "output_type": "stream",
     "text": [
      "<style> th {padding:6px;}</style><table border=1>\n",
      "<tr> <th>1</th> <th>2</th> <th>3</th> <th>4</th> <th>5</th>  </tr>\n",
      "<tr> <th>6</th> <th>7</th> <th>8</th> <th>9</th> <th>10</th>  </tr>\n",
      "<tr> <th>11</th> <th>12</th> <th>13</th> <th>14</th> <th>15</th>  </tr>\n",
      "<tr> <th>16</th> <th>17</th> <th>18</th> <th>19</th> <th>20</th>  </tr>\n",
      "</table>\n"
     ]
    }
   ],
   "source": [
    "def fill_table_2d(l):\n",
    "    r = len(l);\n",
    "    c =  len(l[0]);\n",
    "\n",
    "    h = \"<style> th {padding:6px;}</style>\" + \\\n",
    "        \"<table border=1>\"\n",
    "    i = 0\n",
    "    for x in range(r):\n",
    "        h += f\"\\n<tr>\"\n",
    "        for y in range(c):\n",
    "            h += f\" <th>{l[x][y]}</th>\"\n",
    "        h += \"  </tr>\"\n",
    "    h += \"\\n</table>\"\n",
    "    return h;\n",
    "\n",
    "rows = 4\n",
    "cols = 5\n",
    "start_num = 1\n",
    "l = [[start_num + cols * r + c for c in range(cols)] for r in range(rows)]\n",
    "\n",
    "# Call the function to generate the table HTML\n",
    "h = fill_table_2d(l)\n",
    "\n",
    "print(h)\n"
   ]
  },
  {
   "cell_type": "code",
   "execution_count": 33,
   "id": "2225d405",
   "metadata": {},
   "outputs": [],
   "source": [
    "import csv\n",
    "\n",
    "data = []\n",
    "with open('112_student_TaipeiTech.csv', newline='', encoding='cp1252') as csvfile:\n",
    "    csvreader = csv.reader(csvfile)\n",
    "    for row in csvreader:\n",
    "        data.append(row)\n",
    "\n",
    "# Generate HTML table from the parsed content\n",
    "html_content = fill_table_2d(data)\n",
    "\n",
    "# Save the HTML content to a file\n",
    "with open('your_student_ID.html', 'w', encoding='utf-8') as html_file:\n",
    "    html_file.write(html_content)\n",
    "    \n"
   ]
  },
  {
   "cell_type": "code",
   "execution_count": null,
   "id": "ececc7c3",
   "metadata": {},
   "outputs": [],
   "source": []
  }
 ],
 "metadata": {
  "kernelspec": {
   "display_name": "Python 3",
   "language": "python",
   "name": "python3"
  },
  "language_info": {
   "codemirror_mode": {
    "name": "ipython",
    "version": 3
   },
   "file_extension": ".py",
   "mimetype": "text/x-python",
   "name": "python",
   "nbconvert_exporter": "python",
   "pygments_lexer": "ipython3",
   "version": "3.8.8"
  }
 },
 "nbformat": 4,
 "nbformat_minor": 5
}
