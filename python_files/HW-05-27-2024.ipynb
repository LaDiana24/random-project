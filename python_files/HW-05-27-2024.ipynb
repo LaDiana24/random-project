{
 "cells": [
  {
   "cell_type": "markdown",
   "id": "6b186219",
   "metadata": {},
   "source": [
    "# import zipfile\n",
    "import os\n",
    "import webbrowser\n",
    "\n",
    "# Step 1: to Unzip Pictures.zip\n",
    "with zipfile.ZipFile('Pictures.zip', 'r') as zip_ref:\n",
    "    zip_ref.extractall('Pictures')\n",
    "\n",
    "# Step 2: Get the names of all image files in the decompressed directory\n",
    "image_dir = 'Pictures'\n",
    "image_files = [f for f in os.listdir(image_dir) if os.path.isfile(os.path.join(image_dir, f)) and f.lower().endswith(('.png', '.jpg', '.jpeg', '.gif'))]\n",
    "\n",
    "# Step 3: Wrap all image files in the specified HTML format\n",
    "html_content = '<html><body>\\n'\n",
    "for image_file in image_files:\n",
    "    html_content += f\"<img src='./Pictures/{image_file}' height=250 />\\n\"\n",
    "html_content += '</body></html>'\n",
    "\n",
    "# Step 4: Save the wrapped HTML content as see.html file\n",
    "with open('see.html', 'w') as f:\n",
    "    f.write(html_content)\n",
    "\n",
    "# Step 5: Use a web browser to open see.html to observe the image display results\n",
    "webbrowser.open('see.html')\n"
   ]
  },
  {
   "cell_type": "code",
   "execution_count": 21,
   "id": "443dc6c9",
   "metadata": {},
   "outputs": [],
   "source": [
    "import os\n",
    "import zipfile\n",
    "\n",
    "with zipfile.ZipFile('Pictures.zip', 'r') as f:\n",
    "    f.extractall('Pictures')\n",
    "\n",
    "imgs = [f for f in os.listdir('C:\\\\Users\\\\Ils\\\\MyPython\\\\Python-2024-0527\\\\Python-2024-0527\\\\Pictures') if f.endswith(('.jpg', '.avif', 'webp'))]\n",
    "\n",
    "html = ''\n",
    "\n",
    "for img in imgs:\n",
    "    html += f'<img src=\"./Pictures/{img}\" height=250px\">'\n",
    "\n",
    "with open('index.html', 'w') as f:\n",
    "    f.write(html)"
   ]
  },
  {
   "cell_type": "code",
   "execution_count": 12,
   "id": "db191bea",
   "metadata": {},
   "outputs": [],
   "source": [
    "import requests\n",
    "from bs4 import BeautifulSoup\n",
    "from urllib.parse import urljoin\n",
    "\n",
    "url = 'https://stats.moe.gov.tw/bookcase/'\n",
    "r = requests.get(url)\n",
    "\n",
    "html_content = r.text\n",
    "\n",
    "s = BeautifulSoup(html_content, 'html.parser')\n",
    "\n",
    "img_tags = s.find_all('img', class_='datalistImg')\n",
    "\n",
    "image_links = [urljoin(url, img['src']) for img in img_tags]\n",
    "book_links = [urljoin(url, img.find_parent('a')['href']) for img in img_tags]\n",
    "\n",
    "table = '<table>'\n",
    "for i in range(0, len(image_links), 5):\n",
    "    table += '<tr>'\n",
    "    for img_link, book_link in zip(image_links[i:i+5], book_links[i:i+5]):\n",
    "        table += f\"<td><a href='{book_link}' target='_blank'><img src='{img_link}' height='250'></a></td>\"\n",
    "    table += '</tr>'\n",
    "table += '</table>'\n",
    "\n",
    "with open('109990017_hw2.html', 'w') as f:\n",
    "    f.write(table)"
   ]
  },
  {
   "cell_type": "code",
   "execution_count": null,
   "id": "c21b9915",
   "metadata": {},
   "outputs": [],
   "source": []
  }
 ],
 "metadata": {
  "kernelspec": {
   "display_name": "Python 3",
   "language": "python",
   "name": "python3"
  },
  "language_info": {
   "codemirror_mode": {
    "name": "ipython",
    "version": 3
   },
   "file_extension": ".py",
   "mimetype": "text/x-python",
   "name": "python",
   "nbconvert_exporter": "python",
   "pygments_lexer": "ipython3",
   "version": "3.8.8"
  }
 },
 "nbformat": 4,
 "nbformat_minor": 5
}
